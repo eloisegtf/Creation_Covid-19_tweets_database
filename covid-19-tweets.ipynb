{
 "cells": [
  {
   "cell_type": "markdown",
   "metadata": {},
   "source": [
    "## 1. Import packages"
   ]
  },
  {
   "cell_type": "code",
   "execution_count": 1,
   "metadata": {},
   "outputs": [
    {
     "name": "stderr",
     "output_type": "stream",
     "text": [
      "[nltk_data] Downloading package stopwords to\n",
      "[nltk_data]     C:\\Users\\elois\\AppData\\Roaming\\nltk_data...\n",
      "[nltk_data]   Package stopwords is already up-to-date!\n"
     ]
    }
   ],
   "source": [
    "import nltk\n",
    "import numpy as np\n",
    "import pandas as pd\n",
    "import re\n",
    "import string\n",
    "import spacy\n",
    "import tweepy as tw\n",
    "import warnings\n",
    "\n",
    "from nltk.corpus import stopwords\n",
    "from tqdm import tqdm, notebook\n",
    "\n",
    "nltk.download('stopwords')\n",
    "pd.set_option('display.max_columns', None)\n",
    "pd.set_option('display.max_rows', None)\n",
    "pd.set_option('display.max_colwidth', None)\n",
    "pd.set_option('display.width', None)\n",
    "stop_words = stopwords.words('english')\n",
    "warnings.filterwarnings('ignore')"
   ]
  },
  {
   "cell_type": "markdown",
   "metadata": {},
   "source": [
    "## 2. Twitter API authentication"
   ]
  },
  {
   "cell_type": "code",
   "execution_count": 3,
   "metadata": {},
   "outputs": [],
   "source": [
    "# Enter your API key\n",
    "consumer_api_key = \"Enter your api key\" \n",
    "# Enter your API secret\n",
    "consumer_api_secret = \"Enter you api secret\" "
   ]
  },
  {
   "cell_type": "code",
   "execution_count": 4,
   "metadata": {},
   "outputs": [],
   "source": [
    "# Authorization of consumer key and consumer secret\n",
    "auth = tw.OAuthHandler(consumer_api_key, consumer_api_secret)"
   ]
  },
  {
   "cell_type": "code",
   "execution_count": 5,
   "metadata": {},
   "outputs": [],
   "source": [
    "# Calling the api \n",
    "api = tw.API(auth, wait_on_rate_limit=True)"
   ]
  },
  {
   "cell_type": "markdown",
   "metadata": {},
   "source": [
    "## 3. Tweets query\n",
    "\n",
    "### 3.1. Define the query"
   ]
  },
  {
   "cell_type": "code",
   "execution_count": 6,
   "metadata": {},
   "outputs": [],
   "source": [
    "search_words = \"#covid19 -filter:retweets\" \n",
    "date_since = \"2020-03-01\""
   ]
  },
  {
   "cell_type": "code",
   "execution_count": 7,
   "metadata": {},
   "outputs": [],
   "source": [
    "# Collect tweets\n",
    "tweets = tw.Cursor(api.search_tweets,\n",
    "              q=search_words,\n",
    "              lang=\"en\",\n",
    "              since=date_since).items(12452)"
   ]
  },
  {
   "cell_type": "markdown",
   "metadata": {},
   "source": [
    "### 3.2. Retreive the tweets"
   ]
  },
  {
   "cell_type": "code",
   "execution_count": null,
   "metadata": {},
   "outputs": [],
   "source": [
    "# List of tweets \n",
    "tweets_copy = []\n",
    "for tweet in tqdm(tweets):\n",
    "     tweets_copy.append(tweet)"
   ]
  },
  {
   "cell_type": "code",
   "execution_count": 9,
   "metadata": {},
   "outputs": [
    {
     "name": "stdout",
     "output_type": "stream",
     "text": [
      "New tweets retrieved: 12452\n"
     ]
    }
   ],
   "source": [
    "print(f\"New tweets retrieved: {len(tweets_copy)}\")"
   ]
  },
  {
   "cell_type": "markdown",
   "metadata": {},
   "source": [
    "## 4. Populate the dataset"
   ]
  },
  {
   "cell_type": "code",
   "execution_count": 10,
   "metadata": {},
   "outputs": [
    {
     "name": "stderr",
     "output_type": "stream",
     "text": [
      "  7%|▋         | 900/12452 [04:12<53:14,  3.62it/s]  Rate limit reached. Sleeping for: 942\n",
      " 14%|█▍        | 1800/12452 [24:59<1:12:25,  2.45it/s]  Rate limit reached. Sleeping for: 891\n",
      " 22%|██▏       | 2700/12452 [46:38<40:41,  3.99it/s]     Rate limit reached. Sleeping for: 789\n",
      " 29%|██▉       | 3600/12452 [1:04:37<52:52,  2.79it/s]   Rate limit reached. Sleeping for: 906\n",
      " 36%|███▌      | 4500/12452 [1:24:05<36:17,  3.65it/s]     Rate limit reached. Sleeping for: 934\n",
      " 43%|████▎     | 5400/12452 [1:44:13<30:17,  3.88it/s]     Rate limit reached. Sleeping for: 922\n",
      " 51%|█████     | 6300/12452 [2:04:10<30:12,  3.40it/s]     Rate limit reached. Sleeping for: 922\n",
      " 58%|█████▊    | 7200/12452 [2:24:08<22:42,  3.85it/s]     Rate limit reached. Sleeping for: 921\n",
      " 65%|██████▌   | 8100/12452 [2:44:40<21:00,  3.45it/s]     Rate limit reached. Sleeping for: 885\n",
      " 72%|███████▏  | 9000/12452 [3:03:14<15:10,  3.79it/s]     Rate limit reached. Sleeping for: 967\n",
      " 80%|███████▉  | 9900/12452 [3:24:18<13:13,  3.22it/s]     Rate limit reached. Sleeping for: 900\n",
      " 87%|████████▋ | 10800/12452 [3:44:08<07:26,  3.70it/s]    Rate limit reached. Sleeping for: 907\n",
      " 94%|█████████▍| 11700/12452 [4:03:58<05:17,  2.37it/s]     Rate limit reached. Sleeping for: 913\n",
      "100%|██████████| 12452/12452 [4:22:37<00:00,  1.27s/it]    \n"
     ]
    }
   ],
   "source": [
    "tweets_df = pd.DataFrame()\n",
    "for tweet in tqdm(tweets_copy):\n",
    "    hashtags = []\n",
    "    # Verifiying that is a tweet with get_status \n",
    "    try:\n",
    "        for hashtag in tweet.entities[\"hashtags\"]:\n",
    "            hashtags.append(hashtag[\"text\"])\n",
    "        text = api.get_status(id=tweet.id, tweet_mode='extended').full_text\n",
    "    except:\n",
    "        pass\n",
    "    tweets_df = tweets_df.append(pd.DataFrame({'user_name': tweet.user.name, \n",
    "                                               'user_location': tweet.user.location,\\\n",
    "                                               'user_description': tweet.user.description,\n",
    "                                               'user_created': tweet.user.created_at,\n",
    "                                               'user_followers': tweet.user.followers_count,\n",
    "                                               'user_friends': tweet.user.friends_count,\n",
    "                                               'user_favourites': tweet.user.favourites_count,\n",
    "                                               'user_verified': tweet.user.verified,\n",
    "                                               'date': tweet.created_at,\n",
    "                                               'text': text, \n",
    "                                               'hashtags': [hashtags if hashtags else None],\n",
    "                                               'source': tweet.source,\n",
    "                                               'is_retweet': tweet.retweeted}, index=[0]))"
   ]
  },
  {
   "cell_type": "code",
   "execution_count": 11,
   "metadata": {},
   "outputs": [
    {
     "data": {
      "text/html": [
       "<div>\n",
       "<style scoped>\n",
       "    .dataframe tbody tr th:only-of-type {\n",
       "        vertical-align: middle;\n",
       "    }\n",
       "\n",
       "    .dataframe tbody tr th {\n",
       "        vertical-align: top;\n",
       "    }\n",
       "\n",
       "    .dataframe thead th {\n",
       "        text-align: right;\n",
       "    }\n",
       "</style>\n",
       "<table border=\"1\" class=\"dataframe\">\n",
       "  <thead>\n",
       "    <tr style=\"text-align: right;\">\n",
       "      <th></th>\n",
       "      <th>user_name</th>\n",
       "      <th>user_location</th>\n",
       "      <th>user_description</th>\n",
       "      <th>user_created</th>\n",
       "      <th>user_followers</th>\n",
       "      <th>user_friends</th>\n",
       "      <th>user_favourites</th>\n",
       "      <th>user_verified</th>\n",
       "      <th>date</th>\n",
       "      <th>text</th>\n",
       "      <th>hashtags</th>\n",
       "      <th>source</th>\n",
       "      <th>is_retweet</th>\n",
       "    </tr>\n",
       "  </thead>\n",
       "  <tbody>\n",
       "    <tr>\n",
       "      <th>0</th>\n",
       "      <td>Andrew Vanderbilt Carr</td>\n",
       "      <td>Newport, Rhode Island USA</td>\n",
       "      <td>Patriotic Progressive Capitalist. Fully-vaxed. Pro 1st amendment! Anti-woke/Anti-cancel/Anti-wokester.  In desperate need of a 6 month vacation...twice a year</td>\n",
       "      <td>2020-07-15 14:56:33+00:00</td>\n",
       "      <td>562</td>\n",
       "      <td>369</td>\n",
       "      <td>6788</td>\n",
       "      <td>False</td>\n",
       "      <td>2022-01-27 06:56:38+00:00</td>\n",
       "      <td>@davidcicilline Its TIME to end the ridiculous testing of U.S. citizens returning home from abroad, or make it 5 days so they can test neg. A fully vaxxed &amp;amp; boostered person will miss flights, lose a job, &amp;amp; many $$'s just getting a or false positive. #COVID19 #testing #endemic</td>\n",
       "      <td>None</td>\n",
       "      <td>Twitter for iPhone</td>\n",
       "      <td>False</td>\n",
       "    </tr>\n",
       "    <tr>\n",
       "      <th>0</th>\n",
       "      <td>Argus News</td>\n",
       "      <td>Bhubaneswar</td>\n",
       "      <td>Argus News(https://t.co/79dFkqIXbC) from Digital to Satellite has emerged as a platform that Voices 4.5 crore Odias.</td>\n",
       "      <td>2020-12-05 12:30:31+00:00</td>\n",
       "      <td>14330</td>\n",
       "      <td>160</td>\n",
       "      <td>8</td>\n",
       "      <td>False</td>\n",
       "      <td>2022-01-27 06:56:28+00:00</td>\n",
       "      <td>It seems the current wave of #Covid19 infection has touched the pick in Odisha. Everyday 5000-7000 fresh Corona cases are surfacing in the State. Despite the downward trend all should continue to take precautionary measures: Niranjan Mishra, Public Health Director https://t.co/ttQkLVXHez</td>\n",
       "      <td>[Covid19]</td>\n",
       "      <td>TweetDeck</td>\n",
       "      <td>False</td>\n",
       "    </tr>\n",
       "    <tr>\n",
       "      <th>0</th>\n",
       "      <td>Magilla Gorilla 39</td>\n",
       "      <td>Mr. Peeble's Pet Shop</td>\n",
       "      <td>I temporarily live at Mr. Peeble's Pet Shop, but I am hoping to get a permanent home soon.  I'm a focused gorilla detective. Tick, Tock Manitowoc. Tick, Tock.</td>\n",
       "      <td>2020-02-04 19:21:29+00:00</td>\n",
       "      <td>1467</td>\n",
       "      <td>262</td>\n",
       "      <td>7355</td>\n",
       "      <td>False</td>\n",
       "      <td>2022-01-27 06:56:18+00:00</td>\n",
       "      <td>(421) In South Africa, #COVID19 Deaths returned to near peak levels, two weeks after the initial peak seen during the South African #Omicron recovery.\\n\\nAlso, an abrupt down and then back up branch of the Deaths curve suggests a period of partial reporting. https://t.co/zs9HNbsEv5</td>\n",
       "      <td>[COVID19]</td>\n",
       "      <td>Twitter Web App</td>\n",
       "      <td>False</td>\n",
       "    </tr>\n",
       "    <tr>\n",
       "      <th>0</th>\n",
       "      <td>Pratidin Time</td>\n",
       "      <td>Guwahati, India</td>\n",
       "      <td>is a 24-hour Assamese news channel, and is a media product of Yash TV Entertainment Pvt. Ltd.</td>\n",
       "      <td>2011-12-16 07:39:41+00:00</td>\n",
       "      <td>149261</td>\n",
       "      <td>231</td>\n",
       "      <td>73</td>\n",
       "      <td>False</td>\n",
       "      <td>2022-01-27 06:56:05+00:00</td>\n",
       "      <td>#ASSAM | Congress MP From Nagaon, Pradyut Bordoloi, Tests Positive For Covid-19  \\n#Nagaon #Congress #MP #COVID19  \\nhttps://t.co/PNkMAWsqjy \\n@pradyutbordoloi</td>\n",
       "      <td>[ASSAM, Nagaon, Congress, MP, COVID19]</td>\n",
       "      <td>Twitter Web App</td>\n",
       "      <td>False</td>\n",
       "    </tr>\n",
       "    <tr>\n",
       "      <th>0</th>\n",
       "      <td>Covid-19 Bot</td>\n",
       "      <td></td>\n",
       "      <td>Tweeting stats about Covid-19. A @joe_scotto product.</td>\n",
       "      <td>2020-03-11 20:27:58+00:00</td>\n",
       "      <td>90</td>\n",
       "      <td>1</td>\n",
       "      <td>2</td>\n",
       "      <td>False</td>\n",
       "      <td>2022-01-27 06:56:02+00:00</td>\n",
       "      <td>Cases: 362,523,525 (+56,029) \\nDeaths: 5,626,879 (+0) \\nRecovered: 0 (+0) \\nActive Cases: 362,523,525 (100%)\\nCompleted Cases: 5,626,879 (1.55%)\\nMortality Rate: 1.55% (No Change)\\nCase Fatality Rate: 100.00% (No Change)\\n\\n#COVID19 #Coronavirus #StayHome</td>\n",
       "      <td>None</td>\n",
       "      <td>Covid-19 Bot</td>\n",
       "      <td>False</td>\n",
       "    </tr>\n",
       "  </tbody>\n",
       "</table>\n",
       "</div>"
      ],
      "text/plain": [
       "                user_name              user_location  \\\n",
       "0  Andrew Vanderbilt Carr  Newport, Rhode Island USA   \n",
       "0              Argus News                Bhubaneswar   \n",
       "0      Magilla Gorilla 39      Mr. Peeble's Pet Shop   \n",
       "0           Pratidin Time            Guwahati, India   \n",
       "0            Covid-19 Bot                              \n",
       "\n",
       "                                                                                                                                                 user_description  \\\n",
       "0  Patriotic Progressive Capitalist. Fully-vaxed. Pro 1st amendment! Anti-woke/Anti-cancel/Anti-wokester.  In desperate need of a 6 month vacation...twice a year   \n",
       "0                                            Argus News(https://t.co/79dFkqIXbC) from Digital to Satellite has emerged as a platform that Voices 4.5 crore Odias.   \n",
       "0  I temporarily live at Mr. Peeble's Pet Shop, but I am hoping to get a permanent home soon.  I'm a focused gorilla detective. Tick, Tock Manitowoc. Tick, Tock.   \n",
       "0                                                                   is a 24-hour Assamese news channel, and is a media product of Yash TV Entertainment Pvt. Ltd.   \n",
       "0                                                                                                           Tweeting stats about Covid-19. A @joe_scotto product.   \n",
       "\n",
       "               user_created  user_followers  user_friends  user_favourites  \\\n",
       "0 2020-07-15 14:56:33+00:00             562           369             6788   \n",
       "0 2020-12-05 12:30:31+00:00           14330           160                8   \n",
       "0 2020-02-04 19:21:29+00:00            1467           262             7355   \n",
       "0 2011-12-16 07:39:41+00:00          149261           231               73   \n",
       "0 2020-03-11 20:27:58+00:00              90             1                2   \n",
       "\n",
       "   user_verified                      date  \\\n",
       "0          False 2022-01-27 06:56:38+00:00   \n",
       "0          False 2022-01-27 06:56:28+00:00   \n",
       "0          False 2022-01-27 06:56:18+00:00   \n",
       "0          False 2022-01-27 06:56:05+00:00   \n",
       "0          False 2022-01-27 06:56:02+00:00   \n",
       "\n",
       "                                                                                                                                                                                                                                                                                               text  \\\n",
       "0     @davidcicilline Its TIME to end the ridiculous testing of U.S. citizens returning home from abroad, or make it 5 days so they can test neg. A fully vaxxed &amp; boostered person will miss flights, lose a job, &amp; many $$'s just getting a or false positive. #COVID19 #testing #endemic   \n",
       "0  It seems the current wave of #Covid19 infection has touched the pick in Odisha. Everyday 5000-7000 fresh Corona cases are surfacing in the State. Despite the downward trend all should continue to take precautionary measures: Niranjan Mishra, Public Health Director https://t.co/ttQkLVXHez   \n",
       "0        (421) In South Africa, #COVID19 Deaths returned to near peak levels, two weeks after the initial peak seen during the South African #Omicron recovery.\\n\\nAlso, an abrupt down and then back up branch of the Deaths curve suggests a period of partial reporting. https://t.co/zs9HNbsEv5   \n",
       "0                                                                                                                                   #ASSAM | Congress MP From Nagaon, Pradyut Bordoloi, Tests Positive For Covid-19  \\n#Nagaon #Congress #MP #COVID19  \\nhttps://t.co/PNkMAWsqjy \\n@pradyutbordoloi   \n",
       "0                                   Cases: 362,523,525 (+56,029) \\nDeaths: 5,626,879 (+0) \\nRecovered: 0 (+0) \\nActive Cases: 362,523,525 (100%)\\nCompleted Cases: 5,626,879 (1.55%)\\nMortality Rate: 1.55% (No Change)\\nCase Fatality Rate: 100.00% (No Change)\\n\\n#COVID19 #Coronavirus #StayHome   \n",
       "\n",
       "                                 hashtags              source  is_retweet  \n",
       "0                                    None  Twitter for iPhone       False  \n",
       "0                               [Covid19]           TweetDeck       False  \n",
       "0                               [COVID19]     Twitter Web App       False  \n",
       "0  [ASSAM, Nagaon, Congress, MP, COVID19]     Twitter Web App       False  \n",
       "0                                    None        Covid-19 Bot       False  "
      ]
     },
     "execution_count": 11,
     "metadata": {},
     "output_type": "execute_result"
    }
   ],
   "source": [
    "# Displays the 5 first rows of the database\n",
    "tweets_df.head()"
   ]
  },
  {
   "cell_type": "markdown",
   "metadata": {
    "tags": []
   },
   "source": [
    "## 5. Save the final data\n",
    "\n",
    "### 5.1. Read the past data"
   ]
  },
  {
   "cell_type": "code",
   "execution_count": 13,
   "metadata": {},
   "outputs": [
    {
     "name": "stdout",
     "output_type": "stream",
     "text": [
      "Shape of past tweets: (179108, 13)\n"
     ]
    }
   ],
   "source": [
    "tweets_old_df = pd.read_csv(\"covid19_tweets.csv\")\n",
    "print(f\"Shape of past tweets: {tweets_old_df.shape}\")"
   ]
  },
  {
   "cell_type": "markdown",
   "metadata": {},
   "source": [
    "### 5.2. Merge the past and new data"
   ]
  },
  {
   "cell_type": "code",
   "execution_count": 14,
   "metadata": {},
   "outputs": [
    {
     "name": "stdout",
     "output_type": "stream",
     "text": [
      "Number of new tweets: 12452 Number of past tweets: 179108 Number of all tweets: 191560\n"
     ]
    }
   ],
   "source": [
    "tweets_all_df = pd.concat([tweets_old_df, tweets_df], axis=0)\n",
    "print(f\"Number of new tweets: {tweets_df.shape[0]} Number of past tweets: {tweets_old_df.shape[0]} Number of all tweets: {tweets_all_df.shape[0]}\")"
   ]
  },
  {
   "cell_type": "markdown",
   "metadata": {},
   "source": [
    "### 5.3. Drop duplicates"
   ]
  },
  {
   "cell_type": "code",
   "execution_count": 15,
   "metadata": {},
   "outputs": [
    {
     "name": "stdout",
     "output_type": "stream",
     "text": [
      "Shape of the final data with all tweets: (191560, 13)\n"
     ]
    }
   ],
   "source": [
    "tweets_all_df.drop_duplicates(subset = [\"user_name\", \"date\", \"text\"], inplace=True)\n",
    "print(f\"Shape of the final data with all tweets: {tweets_all_df.shape}\")"
   ]
  },
  {
   "cell_type": "markdown",
   "metadata": {},
   "source": [
    "### 5.4. Export the updated data"
   ]
  },
  {
   "cell_type": "code",
   "execution_count": 16,
   "metadata": {},
   "outputs": [],
   "source": [
    "tweets_all_df.to_csv(\"covid19_tweets.csv\", index=False)"
   ]
  },
  {
   "cell_type": "markdown",
   "metadata": {},
   "source": [
    "## 6. Precessing the final data\n",
    "\n",
    "### 6.1. Functions to process text"
   ]
  },
  {
   "cell_type": "code",
   "execution_count": 17,
   "metadata": {},
   "outputs": [],
   "source": [
    "def first_clean (row): \n",
    "    \"\"\" first_clean function\n",
    "    \n",
    "        Input:\n",
    "            -- row: row of a dataframe\n",
    "            \n",
    "        Output:\n",
    "            -- row: row of dataframe\n",
    "    \"\"\"\n",
    "    # Transforms type of row into a string\n",
    "    row=str(row)\n",
    "    # Lower\n",
    "    row=row.lower()\n",
    "    \n",
    "    row=row.replace('\\n','')\n",
    "    \n",
    "    # Remove punctuation\n",
    "    table=str.maketrans(dict.fromkeys(string.punctuation))\n",
    "    row=row.translate(table)\n",
    "    \n",
    "    row=row.split(' - ')\n",
    "    row=row[-1]\n",
    "    \n",
    "    # Remove link\n",
    "    row=re.sub(r'http[A-Za-z0-9.]+', '', row)\n",
    "    \n",
    "    return row"
   ]
  },
  {
   "cell_type": "code",
   "execution_count": 18,
   "metadata": {},
   "outputs": [],
   "source": [
    "def remove_emoji (row):\n",
    "    \"\"\" remove_emoji function\n",
    "    \n",
    "        Input:\n",
    "            --row: row of a dataframe\n",
    "        \n",
    "        Output:\n",
    "            --row: row of a dataframe\n",
    "    \"\"\"\n",
    "    row=str(row)\n",
    "    regrex_pattern = re.compile(pattern = \"[\"\n",
    "        u\"\\U0001F600-\\U0001F64F\"  # emoticons\n",
    "        u\"\\U0001F300-\\U0001F5FF\"  # symbols & pictographs\n",
    "        u\"\\U0001F680-\\U0001F6FF\"  # transport & map symbols\n",
    "        u\"\\U0001F1E0-\\U0001F1FF\"  # flags (iOS)\n",
    "        u\"\\U00002500-\\U00002BEF\"  # chinese char\n",
    "        u\"\\U00002702-\\U000027B0\"\n",
    "        u\"\\U00002702-\\U000027B0\"\n",
    "        u\"\\U000024C2-\\U0001F251\"\n",
    "        u\"\\U0001f926-\\U0001f937\"\n",
    "        u\"\\U00010000-\\U0010ffff\"\n",
    "        u\"\\u2640-\\u2642\" \n",
    "        u\"\\u2600-\\u2B55\"\n",
    "        u\"\\u200d\"\n",
    "        u\"\\u23cf\"\n",
    "        u\"\\u23e9\"\n",
    "        u\"\\u231a\"\n",
    "        u\"\\ufe0f\"  # dingbats\n",
    "        u\"\\u3030\"\n",
    "                    \"]+\", flags = re.UNICODE)\n",
    "    row=regrex_pattern.sub(r'',row)\n",
    "    return row"
   ]
  },
  {
   "cell_type": "markdown",
   "metadata": {},
   "source": [
    "### 6.2. Process column user_name"
   ]
  },
  {
   "cell_type": "code",
   "execution_count": 23,
   "metadata": {},
   "outputs": [],
   "source": [
    "tweets_all_df[\"user_name\"]=tweets_all_df[\"user_name\"].apply(remove_emoji)"
   ]
  },
  {
   "cell_type": "code",
   "execution_count": 24,
   "metadata": {},
   "outputs": [],
   "source": [
    "# Convert string missing values into real missing values\n",
    "tweets_all_df[\"user_name\"]=tweets_all_df[\"user_name\"].apply(lambda x: np.nan if x == 'nan' else x)"
   ]
  },
  {
   "cell_type": "markdown",
   "metadata": {},
   "source": [
    "### 6.3. Process column user_location"
   ]
  },
  {
   "cell_type": "code",
   "execution_count": 25,
   "metadata": {},
   "outputs": [],
   "source": [
    "tweets_all_df[\"user_location\"]=tweets_all_df[\"user_location\"].apply(first_clean)"
   ]
  },
  {
   "cell_type": "code",
   "execution_count": 26,
   "metadata": {},
   "outputs": [],
   "source": [
    "tweets_all_df[\"user_location\"]=tweets_all_df[\"user_location\"].apply(remove_emoji)"
   ]
  },
  {
   "cell_type": "code",
   "execution_count": 27,
   "metadata": {},
   "outputs": [],
   "source": [
    "tweets_all_df[\"user_location\"]=tweets_all_df[\"user_location\"].apply(lambda x: np.nan if x == 'nan' else x)"
   ]
  },
  {
   "cell_type": "markdown",
   "metadata": {},
   "source": [
    "### 6.4. Process column user_description"
   ]
  },
  {
   "cell_type": "code",
   "execution_count": 28,
   "metadata": {},
   "outputs": [],
   "source": [
    "tweets_all_df[\"user_description\"]=tweets_all_df[\"user_description\"].apply(first_clean)"
   ]
  },
  {
   "cell_type": "code",
   "execution_count": 29,
   "metadata": {},
   "outputs": [],
   "source": [
    "tweets_all_df[\"user_description\"]=tweets_all_df[\"user_description\"].apply(remove_emoji)"
   ]
  },
  {
   "cell_type": "code",
   "execution_count": 30,
   "metadata": {},
   "outputs": [],
   "source": [
    "# Remove stopwords\n",
    "tweets_all_df['user_description'] = tweets_all_df['user_description'].apply(lambda x: ' '.join([word for word in x.split() if word not in (stop_words)]))"
   ]
  },
  {
   "cell_type": "code",
   "execution_count": 31,
   "metadata": {},
   "outputs": [],
   "source": [
    "tweets_all_df[\"user_description\"]=tweets_all_df[\"user_description\"].apply(lambda x: np.nan if x == 'nan' else x)"
   ]
  },
  {
   "cell_type": "markdown",
   "metadata": {},
   "source": [
    "### 6.5. Process column text"
   ]
  },
  {
   "cell_type": "code",
   "execution_count": 32,
   "metadata": {},
   "outputs": [],
   "source": [
    "tweets_all_df[\"text\"]=tweets_all_df[\"text\"].apply(first_clean)"
   ]
  },
  {
   "cell_type": "code",
   "execution_count": 33,
   "metadata": {},
   "outputs": [],
   "source": [
    "tweets_all_df[\"text\"]=tweets_all_df[\"text\"].apply(remove_emoji)"
   ]
  },
  {
   "cell_type": "code",
   "execution_count": 34,
   "metadata": {},
   "outputs": [],
   "source": [
    "tweets_all_df['text'] = tweets_all_df['text'].apply(lambda x: ' '.join([word for word in x.split() if word not in (stop_words)]))"
   ]
  },
  {
   "cell_type": "code",
   "execution_count": 35,
   "metadata": {},
   "outputs": [],
   "source": [
    "tweets_all_df[\"text\"]=tweets_all_df[\"text\"].apply(lambda x: np.nan if x == 'nan' else x)"
   ]
  },
  {
   "cell_type": "markdown",
   "metadata": {},
   "source": [
    "### 6.6. Process column hashtags"
   ]
  },
  {
   "cell_type": "code",
   "execution_count": 36,
   "metadata": {},
   "outputs": [],
   "source": [
    "tweets_all_df[\"hashtags\"]=tweets_all_df[\"hashtags\"].apply(first_clean)"
   ]
  },
  {
   "cell_type": "code",
   "execution_count": 37,
   "metadata": {},
   "outputs": [],
   "source": [
    "tweets_all_df[\"hashtags\"]=tweets_all_df[\"hashtags\"].apply(lambda x: np.nan if x == 'nan' else x)"
   ]
  },
  {
   "cell_type": "markdown",
   "metadata": {},
   "source": [
    "### 6.7. Export processed data"
   ]
  },
  {
   "cell_type": "code",
   "execution_count": 3,
   "metadata": {},
   "outputs": [
    {
     "data": {
      "text/html": [
       "<div>\n",
       "<style scoped>\n",
       "    .dataframe tbody tr th:only-of-type {\n",
       "        vertical-align: middle;\n",
       "    }\n",
       "\n",
       "    .dataframe tbody tr th {\n",
       "        vertical-align: top;\n",
       "    }\n",
       "\n",
       "    .dataframe thead th {\n",
       "        text-align: right;\n",
       "    }\n",
       "</style>\n",
       "<table border=\"1\" class=\"dataframe\">\n",
       "  <thead>\n",
       "    <tr style=\"text-align: right;\">\n",
       "      <th></th>\n",
       "      <th>user_name</th>\n",
       "      <th>user_location</th>\n",
       "      <th>user_description</th>\n",
       "      <th>user_created</th>\n",
       "      <th>user_followers</th>\n",
       "      <th>user_friends</th>\n",
       "      <th>user_favourites</th>\n",
       "      <th>user_verified</th>\n",
       "      <th>date</th>\n",
       "      <th>text</th>\n",
       "      <th>hashtags</th>\n",
       "      <th>source</th>\n",
       "      <th>is_retweet</th>\n",
       "    </tr>\n",
       "  </thead>\n",
       "  <tbody>\n",
       "    <tr>\n",
       "      <th>0</th>\n",
       "      <td>ᏉᎥլϮ</td>\n",
       "      <td>astroworld</td>\n",
       "      <td>wednesday addams disney princess keepin ̲̲̲̅̅̅ιοο̲̲̲̅̅̅</td>\n",
       "      <td>2017-05-26 05:46:42</td>\n",
       "      <td>624</td>\n",
       "      <td>950</td>\n",
       "      <td>18775</td>\n",
       "      <td>False</td>\n",
       "      <td>2020-07-25 12:27:21</td>\n",
       "      <td>smelled scent hand sanitizers today someone past would think intoxicated that…</td>\n",
       "      <td>NaN</td>\n",
       "      <td>Twitter for iPhone</td>\n",
       "      <td>False</td>\n",
       "    </tr>\n",
       "    <tr>\n",
       "      <th>1</th>\n",
       "      <td>Tom Basile</td>\n",
       "      <td>new york ny</td>\n",
       "      <td>husband father columnist commentator author tough sell fighting media war iraq bush admin alum newsmax contributor fmr exec dir nysgop</td>\n",
       "      <td>2009-04-16 20:06:23</td>\n",
       "      <td>2253</td>\n",
       "      <td>1677</td>\n",
       "      <td>24</td>\n",
       "      <td>True</td>\n",
       "      <td>2020-07-25 12:27:17</td>\n",
       "      <td>hey yankees yankeespr mlb wouldnt made sense players pay respects a…</td>\n",
       "      <td>NaN</td>\n",
       "      <td>Twitter for Android</td>\n",
       "      <td>False</td>\n",
       "    </tr>\n",
       "    <tr>\n",
       "      <th>2</th>\n",
       "      <td>Time4fisticuffs</td>\n",
       "      <td>pewee valley ky</td>\n",
       "      <td>christian catholic conservative reagan republican capitalist sports lover bbn cincinnati reds bengals trump2020</td>\n",
       "      <td>2009-02-28 18:57:41</td>\n",
       "      <td>9275</td>\n",
       "      <td>9525</td>\n",
       "      <td>7254</td>\n",
       "      <td>False</td>\n",
       "      <td>2020-07-25 12:27:14</td>\n",
       "      <td>diane3443 wdunlap realdonaldtrump trump never claimed covid19 hoax claim effort to…</td>\n",
       "      <td>covid19</td>\n",
       "      <td>Twitter for Android</td>\n",
       "      <td>False</td>\n",
       "    </tr>\n",
       "    <tr>\n",
       "      <th>3</th>\n",
       "      <td>ethel mertz</td>\n",
       "      <td>stuck in the middle</td>\n",
       "      <td>browns indians clevelandproud cavs resist</td>\n",
       "      <td>2019-03-07 01:45:06</td>\n",
       "      <td>197</td>\n",
       "      <td>987</td>\n",
       "      <td>1488</td>\n",
       "      <td>False</td>\n",
       "      <td>2020-07-25 12:27:10</td>\n",
       "      <td>brookbanktv one gift covid19 give appreciation simple things always around me…</td>\n",
       "      <td>covid19</td>\n",
       "      <td>Twitter for iPhone</td>\n",
       "      <td>False</td>\n",
       "    </tr>\n",
       "    <tr>\n",
       "      <th>4</th>\n",
       "      <td>DIPR-J&amp;K</td>\n",
       "      <td>jammu and kashmir</td>\n",
       "      <td>official twitter handle department information public relations govt jammu kashmir</td>\n",
       "      <td>2017-02-12 06:45:15</td>\n",
       "      <td>101009</td>\n",
       "      <td>168</td>\n",
       "      <td>101</td>\n",
       "      <td>False</td>\n",
       "      <td>2020-07-25 12:27:08</td>\n",
       "      <td>25 july media bulletin novel coronavirusupdates covid19 kansalrohit69 drsyedsehrish airnewsalerts ani…</td>\n",
       "      <td>coronavirusupdates covid19</td>\n",
       "      <td>Twitter for Android</td>\n",
       "      <td>False</td>\n",
       "    </tr>\n",
       "  </tbody>\n",
       "</table>\n",
       "</div>"
      ],
      "text/plain": [
       "         user_name         user_location  \\\n",
       "0             ᏉᎥլϮ            astroworld   \n",
       "1      Tom Basile            new york ny   \n",
       "2  Time4fisticuffs       pewee valley ky   \n",
       "3      ethel mertz  stuck in the middle    \n",
       "4         DIPR-J&K     jammu and kashmir   \n",
       "\n",
       "                                                                                                                         user_description  \\\n",
       "0                                                                                 wednesday addams disney princess keepin ̲̲̲̅̅̅ιοο̲̲̲̅̅̅   \n",
       "1  husband father columnist commentator author tough sell fighting media war iraq bush admin alum newsmax contributor fmr exec dir nysgop   \n",
       "2                         christian catholic conservative reagan republican capitalist sports lover bbn cincinnati reds bengals trump2020   \n",
       "3                                                                                               browns indians clevelandproud cavs resist   \n",
       "4                                                      official twitter handle department information public relations govt jammu kashmir   \n",
       "\n",
       "          user_created  user_followers  user_friends  user_favourites  \\\n",
       "0  2017-05-26 05:46:42             624           950            18775   \n",
       "1  2009-04-16 20:06:23            2253          1677               24   \n",
       "2  2009-02-28 18:57:41            9275          9525             7254   \n",
       "3  2019-03-07 01:45:06             197           987             1488   \n",
       "4  2017-02-12 06:45:15          101009           168              101   \n",
       "\n",
       "   user_verified                 date  \\\n",
       "0          False  2020-07-25 12:27:21   \n",
       "1           True  2020-07-25 12:27:17   \n",
       "2          False  2020-07-25 12:27:14   \n",
       "3          False  2020-07-25 12:27:10   \n",
       "4          False  2020-07-25 12:27:08   \n",
       "\n",
       "                                                                                                     text  \\\n",
       "0                          smelled scent hand sanitizers today someone past would think intoxicated that…   \n",
       "1                                    hey yankees yankeespr mlb wouldnt made sense players pay respects a…   \n",
       "2                     diane3443 wdunlap realdonaldtrump trump never claimed covid19 hoax claim effort to…   \n",
       "3                          brookbanktv one gift covid19 give appreciation simple things always around me…   \n",
       "4  25 july media bulletin novel coronavirusupdates covid19 kansalrohit69 drsyedsehrish airnewsalerts ani…   \n",
       "\n",
       "                     hashtags               source  is_retweet  \n",
       "0                         NaN   Twitter for iPhone       False  \n",
       "1                         NaN  Twitter for Android       False  \n",
       "2                     covid19  Twitter for Android       False  \n",
       "3                     covid19   Twitter for iPhone       False  \n",
       "4  coronavirusupdates covid19  Twitter for Android       False  "
      ]
     },
     "execution_count": 3,
     "metadata": {},
     "output_type": "execute_result"
    }
   ],
   "source": [
    "tweets_all_df.head()"
   ]
  },
  {
   "cell_type": "code",
   "execution_count": 38,
   "metadata": {},
   "outputs": [],
   "source": [
    "tweets_all_df.to_csv(\"covid19_tweets_treat.csv\", index=False)"
   ]
  }
 ],
 "metadata": {
  "kernelspec": {
   "display_name": "Python 3",
   "language": "python",
   "name": "python3"
  },
  "language_info": {
   "codemirror_mode": {
    "name": "ipython",
    "version": 3
   },
   "file_extension": ".py",
   "mimetype": "text/x-python",
   "name": "python",
   "nbconvert_exporter": "python",
   "pygments_lexer": "ipython3",
   "version": "3.8.8"
  }
 },
 "nbformat": 4,
 "nbformat_minor": 4
}
